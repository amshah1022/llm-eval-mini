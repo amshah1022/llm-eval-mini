{
 "cells": [
  {
   "cell_type": "markdown",
   "id": "8e73f35e",
   "metadata": {},
   "source": [
    "# Quickstart: Paired Evaluation & Reliability\n",
    "\n",
    "This notebook mirrors the CLI:\n",
    "1. Load ratings (control vs rubric)\n",
    "2. Aggregate medians per prompt\n",
    "3. Paired Wilcoxon + effect sizes\n",
    "4. Krippendorff's alpha (interval)\n",
    "5. Plot per-prompt deltas\n"
   ]
  },
  {
   "cell_type": "code",
   "execution_count": null,
   "id": "dc92dc23",
   "metadata": {},
   "outputs": [],
   "source": [
    "from pathlib import Path\n",
    "import pandas as pd\n",
    "import numpy as np\n",
    "import matplotlib.pyplot as plt\n",
    "from src.eval.metrics import wilcoxon_signed_rank, rank_biserial_from_wilcoxon, krippendorff_alpha_interval\n",
    "\n",
    "ROOT = Path.cwd().parents[0]\n",
    "DATA = ROOT / 'data'\n",
    "ctrl = pd.read_csv(DATA / 'ratings_control.csv')\n",
    "rubr = pd.read_csv(DATA / 'ratings_rubric.csv')\n",
    "\n",
    "def agg_median(df):\n",
    "    return df.groupby('prompt_id')['rating'].median().sort_index()\n",
    "\n",
    "x = agg_median(ctrl).values.astype(float)\n",
    "y = agg_median(rubr).values.astype(float)\n",
    "\n",
    "w = wilcoxon_signed_rank(x, y)\n",
    "r_rb = rank_biserial_from_wilcoxon(x, y)\n",
    "w, r_rb"
   ]
  },
  {
   "cell_type": "code",
   "execution_count": null,
   "id": "1e9fe65d",
   "metadata": {},
   "outputs": [],
   "source": [
    "def alpha(df):\n",
    "    items = sorted(df['prompt_id'].unique())\n",
    "    raters = sorted(df['rater_id'].unique())\n",
    "    import numpy as np\n",
    "    M = np.full((len(items), len(raters)), np.nan)\n",
    "    i_map = {p:i for i,p in enumerate(items)}\n",
    "    r_map = {r:i for i,r in enumerate(raters)}\n",
    "    for _, row in df.iterrows():\n",
    "        M[i_map[row['prompt_id']], r_map[row['rater_id']]] = float(row['rating'])\n",
    "    return krippendorff_alpha_interval(M)\n",
    "\n",
    "alpha_ctrl = alpha(ctrl)\n",
    "alpha_rubr = alpha(rubr)\n",
    "alpha_ctrl, alpha_rubr"
   ]
  },
  {
   "cell_type": "code",
   "execution_count": null,
   "id": "feeb9c29",
   "metadata": {},
   "outputs": [],
   "source": [
    "d = y - x\n",
    "plt.figure(figsize=(6,4))\n",
    "plt.axhline(0, linewidth=1)\n",
    "plt.scatter(range(1, len(d)+1), d)\n",
    "plt.xlabel('Prompt index')\n",
    "plt.ylabel('Rubric − Control (median rating)')\n",
    "plt.title('Per-prompt paired differences')\n",
    "plt.tight_layout()\n"
   ]
  }
 ],
 "metadata": {
  "kernelspec": {
   "display_name": "Python 3",
   "language": "python",
   "name": "python3"
  },
  "language_info": {
   "name": "python",
   "version": "3.x"
  }
 },
 "nbformat": 4,
 "nbformat_minor": 5
}
